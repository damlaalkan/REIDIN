{
 "cells": [
  {
   "cell_type": "code",
   "execution_count": 2,
   "metadata": {},
   "outputs": [],
   "source": [
    "import os\n",
    "os.chdir(r'C:\\Users\\Damla\\Desktop')"
   ]
  },
  {
   "cell_type": "code",
   "execution_count": 3,
   "metadata": {},
   "outputs": [],
   "source": [
    "import csv\n",
    "\n",
    "alist, blist = [], []\n",
    "\n",
    "with open(\"data1.csv\", \"r\") as fileA:\n",
    "    reader = csv.reader(fileA, delimiter=',')\n",
    "    for row in reader:\n",
    "        alist += row\n",
    "\n",
    "with open(\"data2.csv\", \"r\") as fileB:\n",
    "    reader = csv.reader(fileB, delimiter=',')\n",
    "    for row in reader:\n",
    "        blist += row\n",
    "\n",
    "first_set = set(alist)\n",
    "second_set = set(blist)\n",
    "\n",
    "res = first_set | second_set\n",
    "\n",
    "writer = csv.writer(open(\"data3.csv\", 'w'))\n",
    "\n",
    "for row in res:\n",
    "     writer.writerow([row])"
   ]
  },
  {
   "cell_type": "code",
   "execution_count": null,
   "metadata": {},
   "outputs": [],
   "source": []
  }
 ],
 "metadata": {
  "kernelspec": {
   "display_name": "Python 3",
   "language": "python",
   "name": "python3"
  },
  "language_info": {
   "codemirror_mode": {
    "name": "ipython",
    "version": 3
   },
   "file_extension": ".py",
   "mimetype": "text/x-python",
   "name": "python",
   "nbconvert_exporter": "python",
   "pygments_lexer": "ipython3",
   "version": "3.5.6"
  }
 },
 "nbformat": 4,
 "nbformat_minor": 2
}
